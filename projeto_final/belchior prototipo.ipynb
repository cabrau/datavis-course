{
 "cells": [
  {
   "cell_type": "code",
   "execution_count": 81,
   "metadata": {},
   "outputs": [],
   "source": [
    "import pandas as pd\n",
    "import nltk\n",
    "import re\n",
    "from sklearn.feature_extraction.text import TfidfVectorizer\n",
    "import numpy as np\n",
    "from scipy.sparse import csr_matrix"
   ]
  },
  {
   "cell_type": "code",
   "execution_count": 82,
   "metadata": {},
   "outputs": [],
   "source": [
    "html = '<p>Se você vier me perguntar por onde andei<br/>No tempo em que você sonhava<br/>De olhos abertos, lhe direi<br/>Amigo, eu me desesperava</p><p>Sei que assim falando pensas<br/>Que esse desespero é moda em 76<br/>Mas ando mesmo descontente<br/>Desesperadamente, eu grito em português<br/>Mas ando mesmo descontente<br/>Desesperadamente, eu grito em português</p><p>Tenho vinte e cinco anos<br/>De sonho e de sangue<br/>E de América do Sul<br/>Por força deste destino<br/>Um tango argentino <br/>Me vai bem melhor que um blues</p><p>Sei que assim falando pensas<br/>Que esse desespero é moda em 76<br/>E eu quero é que esse canto torto<br/>Feito faca, corte a carne de vocês<br/>E eu quero é que esse canto torto<br/>Feito faca, corte a carne de vocês</p><p>Tenho vinte e cinco anos<br/>De sonho e de sangue<br/>E de América do Sul<br/>Por força deste destino<br/>Um tango argentino <br/>Me vai bem melhor que um blues</p><p>Sei que assim falando, pensas<br/>Que esse desespero é moda em 76<br/>E eu quero é que esse canto torto<br/>Feito faca, corte a carne de vocês<br/>E eu quero é que esse canto torto<br/>Feito faca, corte a carne de vocês</p>'"
   ]
  },
  {
   "cell_type": "code",
   "execution_count": 83,
   "metadata": {},
   "outputs": [
    {
     "data": {
      "text/plain": [
       "['Se você vier me perguntar por onde andei No tempo em que você sonhava De olhos abertos, lhe direi Amigo, eu me desesperava',\n",
       " 'Sei que assim falando pensas Que esse desespero é moda em 76 Mas ando mesmo descontente Desesperadamente, eu grito em português Mas ando mesmo descontente Desesperadamente, eu grito em português',\n",
       " 'Tenho vinte e cinco anos De sonho e de sangue E de América do Sul Por força deste destino Um tango argentino  Me vai bem melhor que um blues',\n",
       " 'Sei que assim falando pensas Que esse desespero é moda em 76 E eu quero é que esse canto torto Feito faca, corte a carne de vocês E eu quero é que esse canto torto Feito faca, corte a carne de vocês',\n",
       " 'Tenho vinte e cinco anos De sonho e de sangue E de América do Sul Por força deste destino Um tango argentino  Me vai bem melhor que um blues',\n",
       " 'Sei que assim falando, pensas Que esse desespero é moda em 76 E eu quero é que esse canto torto Feito faca, corte a carne de vocês E eu quero é que esse canto torto Feito faca, corte a carne de vocês',\n",
       " '']"
      ]
     },
     "execution_count": 83,
     "metadata": {},
     "output_type": "execute_result"
    }
   ],
   "source": [
    "estrofes = re.split('</p>',html)\n",
    "letra = []\n",
    "for estrofe in estrofes:\n",
    "    estrofe = estrofe.replace('<p>','')\n",
    "    estrofe = estrofe.replace('<br/>',' ')\n",
    "    estrofe = estrofe.replace('</br>','')\n",
    "    #estrofe = estrofe.split()\n",
    "    letra.append(estrofe)\n",
    "\n",
    "letra"
   ]
  },
  {
   "cell_type": "code",
   "execution_count": 84,
   "metadata": {},
   "outputs": [
    {
     "name": "stdout",
     "output_type": "stream",
     "text": [
      "['76', 'abertos', 'amigo', 'américa', 'andei', 'ando', 'anos', 'argentino', 'assim', 'bem', 'blues', 'canto', 'carne', 'cinco', 'corte', 'de', 'descontente', 'desesperadamente', 'desesperava', 'desespero', 'deste', 'destino', 'direi', 'do', 'em', 'esse', 'eu', 'faca', 'falando', 'feito', 'força', 'grito', 'lhe', 'mas', 'me', 'melhor', 'mesmo', 'moda', 'no', 'olhos', 'onde', 'pensas', 'perguntar', 'por', 'português', 'que', 'quero', 'sangue', 'se', 'sei', 'sonhava', 'sonho', 'sul', 'tango', 'tempo', 'tenho', 'torto', 'um', 'vai', 'vier', 'vinte', 'você', 'vocês']\n",
      "(7, 63)\n"
     ]
    }
   ],
   "source": [
    "vectorizer = TfidfVectorizer()\n",
    "X = vectorizer.fit_transform(letra)\n",
    "print(vectorizer.get_feature_names())\n",
    "print(X.shape)"
   ]
  },
  {
   "cell_type": "code",
   "execution_count": 85,
   "metadata": {},
   "outputs": [],
   "source": [
    "doc = html.replace('</p>',' ')\n",
    "doc = doc.replace('<p>','')\n",
    "doc = doc.replace('<br/>',' ')\n",
    "doc = [doc]"
   ]
  },
  {
   "cell_type": "code",
   "execution_count": 86,
   "metadata": {},
   "outputs": [
    {
     "name": "stdout",
     "output_type": "stream",
     "text": [
      "['76', 'abertos', 'amigo', 'américa', 'andei', 'ando', 'anos', 'argentino', 'assim', 'bem', 'blues', 'canto', 'carne', 'cinco', 'corte', 'de', 'descontente', 'desesperadamente', 'desesperava', 'desespero', 'deste', 'destino', 'direi', 'do', 'em', 'esse', 'eu', 'faca', 'falando', 'feito', 'força', 'grito', 'lhe', 'mas', 'me', 'melhor', 'mesmo', 'moda', 'no', 'olhos', 'onde', 'pensas', 'perguntar', 'por', 'português', 'que', 'quero', 'sangue', 'se', 'sei', 'sonhava', 'sonho', 'sul', 'tango', 'tempo', 'tenho', 'torto', 'um', 'vai', 'vier', 'vinte', 'você', 'vocês']\n",
      "(1, 63)\n"
     ]
    }
   ],
   "source": [
    "X = vectorizer.fit_transform(doc)\n",
    "print(vectorizer.get_feature_names())\n",
    "print(X.shape)"
   ]
  },
  {
   "cell_type": "code",
   "execution_count": 87,
   "metadata": {},
   "outputs": [
    {
     "data": {
      "text/plain": [
       "scipy.sparse.csr.csr_matrix"
      ]
     },
     "execution_count": 87,
     "metadata": {},
     "output_type": "execute_result"
    }
   ],
   "source": [
    "type(X)"
   ]
  },
  {
   "cell_type": "code",
   "execution_count": 92,
   "metadata": {},
   "outputs": [
    {
     "data": {
      "text/plain": [
       "numpy.ndarray"
      ]
     },
     "execution_count": 92,
     "metadata": {},
     "output_type": "execute_result"
    }
   ],
   "source": [
    "x = X.toarray()"
   ]
  },
  {
   "cell_type": "code",
   "execution_count": 93,
   "metadata": {},
   "outputs": [
    {
     "data": {
      "text/plain": [
       "numpy.ndarray"
      ]
     },
     "execution_count": 93,
     "metadata": {},
     "output_type": "execute_result"
    }
   ],
   "source": []
  },
  {
   "cell_type": "code",
   "execution_count": 94,
   "metadata": {},
   "outputs": [],
   "source": [
    "dictionary = dict(zip(vectorizer.get_feature_names(), x[0]))"
   ]
  },
  {
   "cell_type": "code",
   "execution_count": 95,
   "metadata": {},
   "outputs": [
    {
     "data": {
      "text/plain": [
       "{'76': 0.10783277320343841,\n",
       " 'abertos': 0.03594425773447947,\n",
       " 'amigo': 0.03594425773447947,\n",
       " 'américa': 0.07188851546895894,\n",
       " 'andei': 0.03594425773447947,\n",
       " 'ando': 0.07188851546895894,\n",
       " 'anos': 0.07188851546895894,\n",
       " 'argentino': 0.07188851546895894,\n",
       " 'assim': 0.10783277320343841,\n",
       " 'bem': 0.07188851546895894,\n",
       " 'blues': 0.07188851546895894,\n",
       " 'canto': 0.14377703093791788,\n",
       " 'carne': 0.14377703093791788,\n",
       " 'cinco': 0.07188851546895894,\n",
       " 'corte': 0.14377703093791788,\n",
       " 'de': 0.3953868350792742,\n",
       " 'descontente': 0.07188851546895894,\n",
       " 'desesperadamente': 0.07188851546895894,\n",
       " 'desesperava': 0.03594425773447947,\n",
       " 'desespero': 0.10783277320343841,\n",
       " 'deste': 0.07188851546895894,\n",
       " 'destino': 0.07188851546895894,\n",
       " 'direi': 0.03594425773447947,\n",
       " 'do': 0.07188851546895894,\n",
       " 'em': 0.21566554640687682,\n",
       " 'esse': 0.2516098041413563,\n",
       " 'eu': 0.2516098041413563,\n",
       " 'faca': 0.14377703093791788,\n",
       " 'falando': 0.10783277320343841,\n",
       " 'feito': 0.14377703093791788,\n",
       " 'força': 0.07188851546895894,\n",
       " 'grito': 0.07188851546895894,\n",
       " 'lhe': 0.03594425773447947,\n",
       " 'mas': 0.07188851546895894,\n",
       " 'me': 0.14377703093791788,\n",
       " 'melhor': 0.07188851546895894,\n",
       " 'mesmo': 0.07188851546895894,\n",
       " 'moda': 0.10783277320343841,\n",
       " 'no': 0.03594425773447947,\n",
       " 'olhos': 0.03594425773447947,\n",
       " 'onde': 0.03594425773447947,\n",
       " 'pensas': 0.10783277320343841,\n",
       " 'perguntar': 0.03594425773447947,\n",
       " 'por': 0.10783277320343841,\n",
       " 'português': 0.07188851546895894,\n",
       " 'que': 0.4672753505482331,\n",
       " 'quero': 0.14377703093791788,\n",
       " 'sangue': 0.07188851546895894,\n",
       " 'se': 0.03594425773447947,\n",
       " 'sei': 0.10783277320343841,\n",
       " 'sonhava': 0.03594425773447947,\n",
       " 'sonho': 0.07188851546895894,\n",
       " 'sul': 0.07188851546895894,\n",
       " 'tango': 0.07188851546895894,\n",
       " 'tempo': 0.03594425773447947,\n",
       " 'tenho': 0.07188851546895894,\n",
       " 'torto': 0.14377703093791788,\n",
       " 'um': 0.14377703093791788,\n",
       " 'vai': 0.07188851546895894,\n",
       " 'vier': 0.03594425773447947,\n",
       " 'vinte': 0.07188851546895894,\n",
       " 'você': 0.07188851546895894,\n",
       " 'vocês': 0.14377703093791788}"
      ]
     },
     "execution_count": 95,
     "metadata": {},
     "output_type": "execute_result"
    }
   ],
   "source": [
    "dictionary"
   ]
  },
  {
   "cell_type": "code",
   "execution_count": 104,
   "metadata": {},
   "outputs": [
    {
     "data": {
      "text/plain": [
       "dict_keys(['76', 'abertos', 'amigo', 'américa', 'andei', 'ando', 'anos', 'argentino', 'assim', 'bem', 'blues', 'canto', 'carne', 'cinco', 'corte', 'de', 'descontente', 'desesperadamente', 'desesperava', 'desespero', 'deste', 'destino', 'direi', 'do', 'em', 'esse', 'eu', 'faca', 'falando', 'feito', 'força', 'grito', 'lhe', 'mas', 'me', 'melhor', 'mesmo', 'moda', 'no', 'olhos', 'onde', 'pensas', 'perguntar', 'por', 'português', 'que', 'quero', 'sangue', 'se', 'sei', 'sonhava', 'sonho', 'sul', 'tango', 'tempo', 'tenho', 'torto', 'um', 'vai', 'vier', 'vinte', 'você', 'vocês'])"
      ]
     },
     "execution_count": 104,
     "metadata": {},
     "output_type": "execute_result"
    }
   ],
   "source": [
    "dictionary.keys()"
   ]
  },
  {
   "cell_type": "code",
   "execution_count": 98,
   "metadata": {},
   "outputs": [
    {
     "data": {
      "text/plain": [
       "dict_values([0.10783277320343841, 0.03594425773447947, 0.03594425773447947, 0.07188851546895894, 0.03594425773447947, 0.07188851546895894, 0.07188851546895894, 0.07188851546895894, 0.10783277320343841, 0.07188851546895894, 0.07188851546895894, 0.14377703093791788, 0.14377703093791788, 0.07188851546895894, 0.14377703093791788, 0.3953868350792742, 0.07188851546895894, 0.07188851546895894, 0.03594425773447947, 0.10783277320343841, 0.07188851546895894, 0.07188851546895894, 0.03594425773447947, 0.07188851546895894, 0.21566554640687682, 0.2516098041413563, 0.2516098041413563, 0.14377703093791788, 0.10783277320343841, 0.14377703093791788, 0.07188851546895894, 0.07188851546895894, 0.03594425773447947, 0.07188851546895894, 0.14377703093791788, 0.07188851546895894, 0.07188851546895894, 0.10783277320343841, 0.03594425773447947, 0.03594425773447947, 0.03594425773447947, 0.10783277320343841, 0.03594425773447947, 0.10783277320343841, 0.07188851546895894, 0.4672753505482331, 0.14377703093791788, 0.07188851546895894, 0.03594425773447947, 0.10783277320343841, 0.03594425773447947, 0.07188851546895894, 0.07188851546895894, 0.07188851546895894, 0.03594425773447947, 0.07188851546895894, 0.14377703093791788, 0.14377703093791788, 0.07188851546895894, 0.03594425773447947, 0.07188851546895894, 0.07188851546895894, 0.14377703093791788])"
      ]
     },
     "execution_count": 98,
     "metadata": {},
     "output_type": "execute_result"
    }
   ],
   "source": [
    "dictionary.values()"
   ]
  },
  {
   "cell_type": "code",
   "execution_count": 105,
   "metadata": {},
   "outputs": [
    {
     "data": {
      "text/plain": [
       "dict_items([('76', 0.10783277320343841), ('abertos', 0.03594425773447947), ('amigo', 0.03594425773447947), ('américa', 0.07188851546895894), ('andei', 0.03594425773447947), ('ando', 0.07188851546895894), ('anos', 0.07188851546895894), ('argentino', 0.07188851546895894), ('assim', 0.10783277320343841), ('bem', 0.07188851546895894), ('blues', 0.07188851546895894), ('canto', 0.14377703093791788), ('carne', 0.14377703093791788), ('cinco', 0.07188851546895894), ('corte', 0.14377703093791788), ('de', 0.3953868350792742), ('descontente', 0.07188851546895894), ('desesperadamente', 0.07188851546895894), ('desesperava', 0.03594425773447947), ('desespero', 0.10783277320343841), ('deste', 0.07188851546895894), ('destino', 0.07188851546895894), ('direi', 0.03594425773447947), ('do', 0.07188851546895894), ('em', 0.21566554640687682), ('esse', 0.2516098041413563), ('eu', 0.2516098041413563), ('faca', 0.14377703093791788), ('falando', 0.10783277320343841), ('feito', 0.14377703093791788), ('força', 0.07188851546895894), ('grito', 0.07188851546895894), ('lhe', 0.03594425773447947), ('mas', 0.07188851546895894), ('me', 0.14377703093791788), ('melhor', 0.07188851546895894), ('mesmo', 0.07188851546895894), ('moda', 0.10783277320343841), ('no', 0.03594425773447947), ('olhos', 0.03594425773447947), ('onde', 0.03594425773447947), ('pensas', 0.10783277320343841), ('perguntar', 0.03594425773447947), ('por', 0.10783277320343841), ('português', 0.07188851546895894), ('que', 0.4672753505482331), ('quero', 0.14377703093791788), ('sangue', 0.07188851546895894), ('se', 0.03594425773447947), ('sei', 0.10783277320343841), ('sonhava', 0.03594425773447947), ('sonho', 0.07188851546895894), ('sul', 0.07188851546895894), ('tango', 0.07188851546895894), ('tempo', 0.03594425773447947), ('tenho', 0.07188851546895894), ('torto', 0.14377703093791788), ('um', 0.14377703093791788), ('vai', 0.07188851546895894), ('vier', 0.03594425773447947), ('vinte', 0.07188851546895894), ('você', 0.07188851546895894), ('vocês', 0.14377703093791788)])"
      ]
     },
     "execution_count": 105,
     "metadata": {},
     "output_type": "execute_result"
    }
   ],
   "source": [
    "dictionary.items()"
   ]
  },
  {
   "cell_type": "code",
   "execution_count": 106,
   "metadata": {},
   "outputs": [],
   "source": [
    "df = pd.DataFrame(list(dictionary.items()), columns=['palavra', 'tfidf'])"
   ]
  },
  {
   "cell_type": "code",
   "execution_count": 107,
   "metadata": {},
   "outputs": [
    {
     "data": {
      "text/html": [
       "<div>\n",
       "<style scoped>\n",
       "    .dataframe tbody tr th:only-of-type {\n",
       "        vertical-align: middle;\n",
       "    }\n",
       "\n",
       "    .dataframe tbody tr th {\n",
       "        vertical-align: top;\n",
       "    }\n",
       "\n",
       "    .dataframe thead th {\n",
       "        text-align: right;\n",
       "    }\n",
       "</style>\n",
       "<table border=\"1\" class=\"dataframe\">\n",
       "  <thead>\n",
       "    <tr style=\"text-align: right;\">\n",
       "      <th></th>\n",
       "      <th>palavra</th>\n",
       "      <th>tfidf</th>\n",
       "    </tr>\n",
       "  </thead>\n",
       "  <tbody>\n",
       "    <tr>\n",
       "      <th>0</th>\n",
       "      <td>76</td>\n",
       "      <td>0.107833</td>\n",
       "    </tr>\n",
       "    <tr>\n",
       "      <th>1</th>\n",
       "      <td>abertos</td>\n",
       "      <td>0.035944</td>\n",
       "    </tr>\n",
       "    <tr>\n",
       "      <th>2</th>\n",
       "      <td>amigo</td>\n",
       "      <td>0.035944</td>\n",
       "    </tr>\n",
       "    <tr>\n",
       "      <th>3</th>\n",
       "      <td>américa</td>\n",
       "      <td>0.071889</td>\n",
       "    </tr>\n",
       "    <tr>\n",
       "      <th>4</th>\n",
       "      <td>andei</td>\n",
       "      <td>0.035944</td>\n",
       "    </tr>\n",
       "    <tr>\n",
       "      <th>...</th>\n",
       "      <td>...</td>\n",
       "      <td>...</td>\n",
       "    </tr>\n",
       "    <tr>\n",
       "      <th>58</th>\n",
       "      <td>vai</td>\n",
       "      <td>0.071889</td>\n",
       "    </tr>\n",
       "    <tr>\n",
       "      <th>59</th>\n",
       "      <td>vier</td>\n",
       "      <td>0.035944</td>\n",
       "    </tr>\n",
       "    <tr>\n",
       "      <th>60</th>\n",
       "      <td>vinte</td>\n",
       "      <td>0.071889</td>\n",
       "    </tr>\n",
       "    <tr>\n",
       "      <th>61</th>\n",
       "      <td>você</td>\n",
       "      <td>0.071889</td>\n",
       "    </tr>\n",
       "    <tr>\n",
       "      <th>62</th>\n",
       "      <td>vocês</td>\n",
       "      <td>0.143777</td>\n",
       "    </tr>\n",
       "  </tbody>\n",
       "</table>\n",
       "<p>63 rows × 2 columns</p>\n",
       "</div>"
      ],
      "text/plain": [
       "    palavra     tfidf\n",
       "0        76  0.107833\n",
       "1   abertos  0.035944\n",
       "2     amigo  0.035944\n",
       "3   américa  0.071889\n",
       "4     andei  0.035944\n",
       "..      ...       ...\n",
       "58      vai  0.071889\n",
       "59     vier  0.035944\n",
       "60    vinte  0.071889\n",
       "61     você  0.071889\n",
       "62    vocês  0.143777\n",
       "\n",
       "[63 rows x 2 columns]"
      ]
     },
     "execution_count": 107,
     "metadata": {},
     "output_type": "execute_result"
    }
   ],
   "source": [
    "df"
   ]
  },
  {
   "cell_type": "code",
   "execution_count": 108,
   "metadata": {},
   "outputs": [],
   "source": [
    "df.to_csv('data.csv', index=False)"
   ]
  },
  {
   "cell_type": "code",
   "execution_count": null,
   "metadata": {},
   "outputs": [],
   "source": []
  }
 ],
 "metadata": {
  "kernelspec": {
   "display_name": "Python 3",
   "language": "python",
   "name": "python3"
  },
  "language_info": {
   "codemirror_mode": {
    "name": "ipython",
    "version": 3
   },
   "file_extension": ".py",
   "mimetype": "text/x-python",
   "name": "python",
   "nbconvert_exporter": "python",
   "pygments_lexer": "ipython3",
   "version": "3.7.3"
  }
 },
 "nbformat": 4,
 "nbformat_minor": 2
}
