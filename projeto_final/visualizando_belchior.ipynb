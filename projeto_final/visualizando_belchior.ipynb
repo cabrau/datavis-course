{
 "cells": [
  {
   "cell_type": "markdown",
   "metadata": {},
   "source": [
    "# Visualizando a Poesia de Belchior\n",
    "\n",
    "Projeto final da disciplina Visualização Científica, ministrada pela professora Emanuele Santos. \n",
    "\n",
    "**Lucas Cabral** <br>\n",
    "Universidade Federal do Ceará, Mestrado e Doutorado em Ciências da Computação<br>\n",
    "2019.2"
   ]
  },
  {
   "cell_type": "markdown",
   "metadata": {},
   "source": [
    "![Belchior](https://www.urbanarts.com.br/imagens/produtos/123739/0/Ampliada/amar-e-mudar-as-coisas.jpg)\n",
    "*Arte: [Daniel Brandão](https://www.estudiodanielbrandao.com/)*\n",
    "\n",
    "Antonio Carlos Belchior, mais conhecido como Belchior (Sobral, 26 de outubro de 1946 – Santa Cruz do Sul, 30 de abril de 2017), foi um compositor cearense entre os mais notórios do cancioneiro popular brasileiro.  Dono de uma obra de grande densidade e complexidade estética, literária e filosófica, suas ricas composições são objeto de estudo acadêmico e um marco da cultura cearense. Este trabalho propõe uma análise de suas composições através de técnicas de processamento de linguagem natural e de visualização de dados. Dado a riqueza poético e musica das composições de Belchior, este trabalho não tem a pretenção de realizar uma análise literária ou linguística aprofundada, mas sim, movido por curiosidade e admiração, utilizar ferramentas computacionacias para explorar os padrões sintáticos e estatísticos que permeiam o conjunto de sua obra. Nos interessa saber:\n",
    "\n",
    "- Qual a distribuição do tamanho das letras das músicas?\n",
    "- Quais os termos mais relevantes na obra toda? E por música?\n",
    "- Quais letras possuem maior similaridade? \n",
    "- Qual a polaridade de sentimento e o nível de subjetividade dominante na obra? E por música? \n",
    "- Quais são as palavras que mais ocorrem juntas? \n",
    "\n",
    "Vamos ver o que conseguimos descobrir!  "
   ]
  },
  {
   "cell_type": "markdown",
   "metadata": {},
   "source": [
    "# Sobre os dados\n",
    "As letras foram extraídas do site [Letras](https://www.letras.mus.br/) através de um [web-crawler](https://github.com/cabrau/datavis-course/blob/master/projeto_final/scrapping_lyrics.ipynb). Dando como input o nome do artista, o web-crawler percorre a lista de todas as músicas do artista, armazenando em uma tabela o título da música, se é uma das mais tocadas e a letra, descartando músicas cuja composição não seja do artista escolhido.\n",
    "\n",
    "Após essa coleta, os dados passaram por uma etapa de [extração de features](https://github.com/cabrau/datavis-course/blob/master/projeto_final/pre_processing_text.ipynb) utilizando técnicas de processamento de linguagem natural, incluindo:\n",
    "\n",
    "* Contagem de palavras por documento\n",
    "* Tokenização\n",
    "* Remoção de stopwords\n",
    "* Normalização\n",
    "* Extração de palavras-chave\n",
    "* Distribuição de frequências de tokens\n",
    "* Extração de nGramas\n",
    "* Cálculo de matriz termo-documento (TF-IDF)\n",
    "* Matriz de similaridade de documentos\n",
    "* Redução de dimensionalidade com UMAP\n",
    "* Análise de sentimentos\n",
    "* Modelagem de tópicos"
   ]
  },
  {
   "cell_type": "code",
   "execution_count": 5,
   "metadata": {},
   "outputs": [
    {
     "data": {
      "text/html": [
       "<div>\n",
       "<style scoped>\n",
       "    .dataframe tbody tr th:only-of-type {\n",
       "        vertical-align: middle;\n",
       "    }\n",
       "\n",
       "    .dataframe tbody tr th {\n",
       "        vertical-align: top;\n",
       "    }\n",
       "\n",
       "    .dataframe thead th {\n",
       "        text-align: right;\n",
       "    }\n",
       "</style>\n",
       "<table border=\"1\" class=\"dataframe\">\n",
       "  <thead>\n",
       "    <tr style=\"text-align: right;\">\n",
       "      <th></th>\n",
       "      <th>titulo</th>\n",
       "      <th>maisTocada</th>\n",
       "      <th>letra</th>\n",
       "      <th>tamanho</th>\n",
       "      <th>polaridade</th>\n",
       "      <th>subjetividade</th>\n",
       "      <th>sentimento</th>\n",
       "      <th>keywords</th>\n",
       "      <th>x</th>\n",
       "      <th>y</th>\n",
       "    </tr>\n",
       "  </thead>\n",
       "  <tbody>\n",
       "    <tr>\n",
       "      <th>0</th>\n",
       "      <td>A Palo Seco</td>\n",
       "      <td>1</td>\n",
       "      <td>Se você vier me perguntar por onde andei No te...</td>\n",
       "      <td>195</td>\n",
       "      <td>-0.054545</td>\n",
       "      <td>0.463636</td>\n",
       "      <td>Neutro</td>\n",
       "      <td>quero, canto, torto,</td>\n",
       "      <td>-0.988657</td>\n",
       "      <td>0.457960</td>\n",
       "    </tr>\n",
       "    <tr>\n",
       "      <th>1</th>\n",
       "      <td>Aguapé</td>\n",
       "      <td>0</td>\n",
       "      <td>Capineiro de meu pai Não me cortes meus cabelo...</td>\n",
       "      <td>257</td>\n",
       "      <td>0.032345</td>\n",
       "      <td>0.354072</td>\n",
       "      <td>Neutro</td>\n",
       "      <td>nada, sentada, estrada,</td>\n",
       "      <td>-3.660732</td>\n",
       "      <td>-0.688598</td>\n",
       "    </tr>\n",
       "    <tr>\n",
       "      <th>2</th>\n",
       "      <td>Alucinação</td>\n",
       "      <td>1</td>\n",
       "      <td>Eu não estou interessado Em nenhuma teoria Em ...</td>\n",
       "      <td>370</td>\n",
       "      <td>0.194898</td>\n",
       "      <td>0.600680</td>\n",
       "      <td>Neutro</td>\n",
       "      <td>coisas, nenhuma, amar,</td>\n",
       "      <td>-0.480610</td>\n",
       "      <td>-1.208107</td>\n",
       "    </tr>\n",
       "    <tr>\n",
       "      <th>3</th>\n",
       "      <td>Amor de Perdição</td>\n",
       "      <td>0</td>\n",
       "      <td>Entrar, ficar em ti Tem sido o meu melhor peri...</td>\n",
       "      <td>213</td>\n",
       "      <td>0.156212</td>\n",
       "      <td>0.514444</td>\n",
       "      <td>Neutro</td>\n",
       "      <td>amor, paz, deixa,</td>\n",
       "      <td>-1.388935</td>\n",
       "      <td>1.795278</td>\n",
       "    </tr>\n",
       "    <tr>\n",
       "      <th>4</th>\n",
       "      <td>Amor e Crime</td>\n",
       "      <td>0</td>\n",
       "      <td>Amor, não há amor Existem só provas de amor Ma...</td>\n",
       "      <td>122</td>\n",
       "      <td>0.156944</td>\n",
       "      <td>0.661905</td>\n",
       "      <td>Neutro</td>\n",
       "      <td>amor, tudo, provas,</td>\n",
       "      <td>-1.533922</td>\n",
       "      <td>2.123519</td>\n",
       "    </tr>\n",
       "    <tr>\n",
       "      <th>5</th>\n",
       "      <td>Apenas Um Rapaz Latino Americano</td>\n",
       "      <td>1</td>\n",
       "      <td>Eu sou apenas um rapaz latino-americano Sem di...</td>\n",
       "      <td>358</td>\n",
       "      <td>0.142548</td>\n",
       "      <td>0.572816</td>\n",
       "      <td>Neutro</td>\n",
       "      <td>tudo, nada, apenas,</td>\n",
       "      <td>-0.561554</td>\n",
       "      <td>-0.671341</td>\n",
       "    </tr>\n",
       "    <tr>\n",
       "      <th>6</th>\n",
       "      <td>Arte Final</td>\n",
       "      <td>0</td>\n",
       "      <td>Desculpe qualquer coisa, passe outro dia, Agor...</td>\n",
       "      <td>317</td>\n",
       "      <td>0.128040</td>\n",
       "      <td>0.418286</td>\n",
       "      <td>Neutro</td>\n",
       "      <td>dancei, ora, vem,</td>\n",
       "      <td>-0.828200</td>\n",
       "      <td>-0.550966</td>\n",
       "    </tr>\n",
       "    <tr>\n",
       "      <th>7</th>\n",
       "      <td>Até Amanhã</td>\n",
       "      <td>0</td>\n",
       "      <td>Até amanhã Se o homem quiser - mesmo se chover...</td>\n",
       "      <td>82</td>\n",
       "      <td>0.053247</td>\n",
       "      <td>0.242857</td>\n",
       "      <td>Neutro</td>\n",
       "      <td>amanhã, homem, quiser,</td>\n",
       "      <td>-2.859323</td>\n",
       "      <td>-1.586947</td>\n",
       "    </tr>\n",
       "    <tr>\n",
       "      <th>8</th>\n",
       "      <td>Ate Mais Ver</td>\n",
       "      <td>0</td>\n",
       "      <td>Ate mais ver, ate mais ver, meu camarada. Cont...</td>\n",
       "      <td>73</td>\n",
       "      <td>0.123674</td>\n",
       "      <td>0.442803</td>\n",
       "      <td>Neutro</td>\n",
       "      <td>ate, ver, nada,</td>\n",
       "      <td>-3.444407</td>\n",
       "      <td>-0.573828</td>\n",
       "    </tr>\n",
       "    <tr>\n",
       "      <th>9</th>\n",
       "      <td>Baihuno</td>\n",
       "      <td>0</td>\n",
       "      <td>Já que o tempo fez-te a graça de visitares o N...</td>\n",
       "      <td>324</td>\n",
       "      <td>-0.016784</td>\n",
       "      <td>0.520462</td>\n",
       "      <td>Neutro</td>\n",
       "      <td>tão, mim, tempo,</td>\n",
       "      <td>-0.958155</td>\n",
       "      <td>0.832400</td>\n",
       "    </tr>\n",
       "  </tbody>\n",
       "</table>\n",
       "</div>"
      ],
      "text/plain": [
       "                             titulo  maisTocada  \\\n",
       "0                       A Palo Seco           1   \n",
       "1                            Aguapé           0   \n",
       "2                        Alucinação           1   \n",
       "3                  Amor de Perdição           0   \n",
       "4                      Amor e Crime           0   \n",
       "5  Apenas Um Rapaz Latino Americano           1   \n",
       "6                        Arte Final           0   \n",
       "7                        Até Amanhã           0   \n",
       "8                      Ate Mais Ver           0   \n",
       "9                           Baihuno           0   \n",
       "\n",
       "                                               letra  tamanho  polaridade  \\\n",
       "0  Se você vier me perguntar por onde andei No te...      195   -0.054545   \n",
       "1  Capineiro de meu pai Não me cortes meus cabelo...      257    0.032345   \n",
       "2  Eu não estou interessado Em nenhuma teoria Em ...      370    0.194898   \n",
       "3  Entrar, ficar em ti Tem sido o meu melhor peri...      213    0.156212   \n",
       "4  Amor, não há amor Existem só provas de amor Ma...      122    0.156944   \n",
       "5  Eu sou apenas um rapaz latino-americano Sem di...      358    0.142548   \n",
       "6  Desculpe qualquer coisa, passe outro dia, Agor...      317    0.128040   \n",
       "7  Até amanhã Se o homem quiser - mesmo se chover...       82    0.053247   \n",
       "8  Ate mais ver, ate mais ver, meu camarada. Cont...       73    0.123674   \n",
       "9  Já que o tempo fez-te a graça de visitares o N...      324   -0.016784   \n",
       "\n",
       "   subjetividade sentimento                  keywords         x         y  \n",
       "0       0.463636     Neutro     quero, canto, torto,  -0.988657  0.457960  \n",
       "1       0.354072     Neutro  nada, sentada, estrada,  -3.660732 -0.688598  \n",
       "2       0.600680     Neutro   coisas, nenhuma, amar,  -0.480610 -1.208107  \n",
       "3       0.514444     Neutro        amor, paz, deixa,  -1.388935  1.795278  \n",
       "4       0.661905     Neutro      amor, tudo, provas,  -1.533922  2.123519  \n",
       "5       0.572816     Neutro      tudo, nada, apenas,  -0.561554 -0.671341  \n",
       "6       0.418286     Neutro        dancei, ora, vem,  -0.828200 -0.550966  \n",
       "7       0.242857     Neutro   amanhã, homem, quiser,  -2.859323 -1.586947  \n",
       "8       0.442803     Neutro          ate, ver, nada,  -3.444407 -0.573828  \n",
       "9       0.520462     Neutro         tão, mim, tempo,  -0.958155  0.832400  "
      ]
     },
     "execution_count": 5,
     "metadata": {},
     "output_type": "execute_result"
    }
   ],
   "source": [
    "import pandas as pd\n",
    "df = pd.read_csv('belchior.csv')\n",
    "df.head(10)"
   ]
  },
  {
   "cell_type": "markdown",
   "metadata": {},
   "source": [
    "# Contagem de palavras por músicas"
   ]
  },
  {
   "cell_type": "code",
   "execution_count": 9,
   "metadata": {},
   "outputs": [],
   "source": [
    "from crossfilter import *\n",
    "%load_ext autoreload\n",
    "%autoreload 1\n",
    "%aimport crossfilter\n"
   ]
  },
  {
   "cell_type": "code",
   "execution_count": 10,
   "metadata": {},
   "outputs": [
    {
     "data": {
      "application/javascript": [
       "require.config({\n",
       "    paths: {\n",
       "        'd3': '//cdnjs.cloudflare.com/ajax/libs/d3/3.5.16/d3.min',\n",
       "        'crossfilter': '//cdnjs.cloudflare.com/ajax/libs/crossfilter/1.3.12/crossfilter.min',\n",
       "        'dc': '//cdnjs.cloudflare.com/ajax/libs/dc/1.7.5/dc.min',\n",
       "    },\n",
       "    shim: {\n",
       "        'crossfilter': {\n",
       "            deps: [],\n",
       "            exports: 'crossfilter'\n",
       "        }\n",
       "    }\n",
       "});"
      ],
      "text/plain": [
       "<IPython.core.display.Javascript object>"
      ]
     },
     "metadata": {},
     "output_type": "display_data"
    },
    {
     "data": {
      "text/html": [
       "<link href=\"https://cdnjs.cloudflare.com/ajax/libs/dc/1.7.5/dc.min.css\" rel=\"stylesheet\" type=\"text/css\">"
      ],
      "text/plain": [
       "<IPython.core.display.HTML object>"
      ]
     },
     "metadata": {},
     "output_type": "display_data"
    }
   ],
   "source": [
    "load_resources()"
   ]
  },
  {
   "cell_type": "code",
   "execution_count": 15,
   "metadata": {},
   "outputs": [
    {
     "ename": "TypeError",
     "evalue": "replace() argument 2 must be str, not Series",
     "output_type": "error",
     "traceback": [
      "\u001b[0;31m---------------------------------------------------------------------------\u001b[0m",
      "\u001b[0;31mTypeError\u001b[0m                                 Traceback (most recent call last)",
      "\u001b[0;32m~/anaconda3/lib/python3.7/site-packages/IPython/core/formatters.py\u001b[0m in \u001b[0;36m__call__\u001b[0;34m(self, obj)\u001b[0m\n\u001b[1;32m    343\u001b[0m             \u001b[0mmethod\u001b[0m \u001b[0;34m=\u001b[0m \u001b[0mget_real_method\u001b[0m\u001b[0;34m(\u001b[0m\u001b[0mobj\u001b[0m\u001b[0;34m,\u001b[0m \u001b[0mself\u001b[0m\u001b[0;34m.\u001b[0m\u001b[0mprint_method\u001b[0m\u001b[0;34m)\u001b[0m\u001b[0;34m\u001b[0m\u001b[0;34m\u001b[0m\u001b[0m\n\u001b[1;32m    344\u001b[0m             \u001b[0;32mif\u001b[0m \u001b[0mmethod\u001b[0m \u001b[0;32mis\u001b[0m \u001b[0;32mnot\u001b[0m \u001b[0;32mNone\u001b[0m\u001b[0;34m:\u001b[0m\u001b[0;34m\u001b[0m\u001b[0;34m\u001b[0m\u001b[0m\n\u001b[0;32m--> 345\u001b[0;31m                 \u001b[0;32mreturn\u001b[0m \u001b[0mmethod\u001b[0m\u001b[0;34m(\u001b[0m\u001b[0;34m)\u001b[0m\u001b[0;34m\u001b[0m\u001b[0;34m\u001b[0m\u001b[0m\n\u001b[0m\u001b[1;32m    346\u001b[0m             \u001b[0;32mreturn\u001b[0m \u001b[0;32mNone\u001b[0m\u001b[0;34m\u001b[0m\u001b[0;34m\u001b[0m\u001b[0m\n\u001b[1;32m    347\u001b[0m         \u001b[0;32melse\u001b[0m\u001b[0;34m:\u001b[0m\u001b[0;34m\u001b[0m\u001b[0;34m\u001b[0m\u001b[0m\n",
      "\u001b[0;32m~/Documentos/datavis-course/projeto_final/crossfilter/__init__.py\u001b[0m in \u001b[0;36m_repr_javascript_\u001b[0;34m(self)\u001b[0m\n\u001b[1;32m    128\u001b[0m         \u001b[0mvar\u001b[0m \u001b[0mchart\u001b[0m \u001b[0;34m=\u001b[0m \u001b[0mdc\u001b[0m\u001b[0;34m.\u001b[0m\u001b[0mrowChart\u001b[0m\u001b[0;34m(\u001b[0m\u001b[0;34m\"#\"\u001b[0m \u001b[0;34m+\u001b[0m \u001b[0mchartId\u001b[0m\u001b[0;34m)\u001b[0m\u001b[0;34m;\u001b[0m\u001b[0;34m\u001b[0m\u001b[0;34m\u001b[0m\u001b[0m\n\u001b[1;32m    129\u001b[0m         \u001b[0mchart\u001b[0m\u001b[0;34m.\u001b[0m\u001b[0mdimension\u001b[0m\u001b[0;34m(\u001b[0m\u001b[0mdim\u001b[0m\u001b[0;34m)\u001b[0m\u001b[0;34m.\u001b[0m\u001b[0mgroup\u001b[0m\u001b[0;34m(\u001b[0m\u001b[0mgroup\u001b[0m\u001b[0;34m)\u001b[0m\u001b[0;34m.\u001b[0m\u001b[0mwidth\u001b[0m\u001b[0;34m(\u001b[0m\u001b[0;34m{\u001b[0m\u001b[0mwidth\u001b[0m\u001b[0;34m}\u001b[0m\u001b[0;34m)\u001b[0m\u001b[0;34m.\u001b[0m\u001b[0mheight\u001b[0m\u001b[0;34m(\u001b[0m\u001b[0;34m{\u001b[0m\u001b[0mheight\u001b[0m\u001b[0;34m}\u001b[0m\u001b[0;34m)\u001b[0m\u001b[0;34m;\u001b[0m\u001b[0;34m\u001b[0m\u001b[0;34m\u001b[0m\u001b[0m\n\u001b[0;32m--> 130\u001b[0;31m         \"\"\".replace('{cf}', self.crossfilter_name).replace(\"{prop}\", self.property)\\\n\u001b[0m\u001b[1;32m    131\u001b[0m             \u001b[0;34m.\u001b[0m\u001b[0mreplace\u001b[0m\u001b[0;34m(\u001b[0m\u001b[0;34m'{width}'\u001b[0m\u001b[0;34m,\u001b[0m \u001b[0mstr\u001b[0m\u001b[0;34m(\u001b[0m\u001b[0mself\u001b[0m\u001b[0;34m.\u001b[0m\u001b[0mwidth\u001b[0m\u001b[0;34m)\u001b[0m\u001b[0;34m)\u001b[0m\u001b[0;34m.\u001b[0m\u001b[0mreplace\u001b[0m\u001b[0;34m(\u001b[0m\u001b[0;34m'{height}'\u001b[0m\u001b[0;34m,\u001b[0m \u001b[0mstr\u001b[0m\u001b[0;34m(\u001b[0m\u001b[0mself\u001b[0m\u001b[0;34m.\u001b[0m\u001b[0mheight\u001b[0m\u001b[0;34m)\u001b[0m\u001b[0;34m)\u001b[0m\u001b[0;34m\u001b[0m\u001b[0;34m\u001b[0m\u001b[0m\n\u001b[1;32m    132\u001b[0m \u001b[0;34m\u001b[0m\u001b[0m\n",
      "\u001b[0;31mTypeError\u001b[0m: replace() argument 2 must be str, not Series"
     ]
    },
    {
     "data": {
      "text/plain": [
       "<crossfilter.RowChart at 0x7ff408db3198>"
      ]
     },
     "execution_count": 15,
     "metadata": {},
     "output_type": "execute_result"
    }
   ],
   "source": [
    "RowChart(df['tamanho'])"
   ]
  },
  {
   "cell_type": "code",
   "execution_count": null,
   "metadata": {},
   "outputs": [],
   "source": []
  }
 ],
 "metadata": {
  "kernelspec": {
   "display_name": "Python 3",
   "language": "python",
   "name": "python3"
  },
  "language_info": {
   "codemirror_mode": {
    "name": "ipython",
    "version": 3
   },
   "file_extension": ".py",
   "mimetype": "text/x-python",
   "name": "python",
   "nbconvert_exporter": "python",
   "pygments_lexer": "ipython3",
   "version": "3.7.3"
  }
 },
 "nbformat": 4,
 "nbformat_minor": 2
}
